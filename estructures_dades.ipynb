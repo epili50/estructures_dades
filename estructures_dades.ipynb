{
 "cells": [
  {
   "cell_type": "markdown",
   "id": "5e4f738c",
   "metadata": {},
   "source": [
    "# S02 T01: Estructura de dades\n"
   ]
  },
  {
   "cell_type": "markdown",
   "id": "55d90740",
   "metadata": {},
   "source": [
    "## Nivell 1"
   ]
  },
  {
   "cell_type": "markdown",
   "id": "6bce3a60",
   "metadata": {},
   "source": [
    "### ejercicio 1"
   ]
  },
  {
   "cell_type": "code",
   "execution_count": 1,
   "id": "abf85556",
   "metadata": {},
   "outputs": [
    {
     "name": "stdout",
     "output_type": "stream",
     "text": [
      "[['enero', 'febrero', 'marzo'], ['abril', 'mayo', 'junio'], ['julio', 'agosto', 'septiembre'], ['octubre', 'noviembre', 'diciembre']]\n"
     ]
    }
   ],
   "source": [
    "#Crea una llista que agrupi els mesos de l’any en trimestres \n",
    "#(1T: Gener, Febrer i Març, 2T: Abril, Maig, Juny...), és a dir, una llista amb 4 llistes dins.\n",
    "\n",
    "t1 = [\"enero\", \"febrero\", \"marzo\"]\n",
    "t2 = [\"abril\", \"mayo\", \"junio\"]\n",
    "t3 = [\"julio\", \"agosto\", \"septiembre\"]\n",
    "t4 = [\"octubre\", \"noviembre\", \"diciembre\"]\n",
    "\n",
    "meses = []\n",
    "meses.append(t1)\n",
    "meses.append(t2)\n",
    "meses.append(t3)\n",
    "meses.append(t4)\n",
    "\n",
    "print (meses)"
   ]
  },
  {
   "cell_type": "markdown",
   "id": "6ef5092c",
   "metadata": {},
   "source": [
    "### Ejercicio 2"
   ]
  },
  {
   "cell_type": "code",
   "execution_count": 29,
   "id": "cd21a02b",
   "metadata": {},
   "outputs": [
    {
     "name": "stdout",
     "output_type": "stream",
     "text": [
      "febrero\n",
      "['enero', 'febrero', 'marzo']\n",
      "septiembre y octubre\n"
     ]
    }
   ],
   "source": [
    "##Crea un codi que et permeti accedir a:\n",
    "\n",
    "#El segon mes del primer trimestre\n",
    "print(meses[0][1])\n",
    "\n",
    "#Els mesos del primer trimestre\n",
    "print(meses[0])\n",
    "\n",
    "#Setembre i octubre\n",
    "print(meses[2][2], \"y\", meses[3][0])\n",
    "\n",
    "\n",
    "\n"
   ]
  },
  {
   "cell_type": "markdown",
   "id": "aa966c35",
   "metadata": {},
   "source": [
    "### Ejercicio 3"
   ]
  },
  {
   "cell_type": "code",
   "execution_count": 1,
   "id": "3c3e2708",
   "metadata": {},
   "outputs": [
    {
     "name": "stdout",
     "output_type": "stream",
     "text": [
      "La cantidad de números de la lista es 11\n",
      "El nº 3 aparece 2 veces\n",
      "El nº 3 aparece 2 veces y el nº 4 aparece 3 veces\n",
      "El número más grande es 10\n",
      "El número más grande es 10\n",
      "Los tres números más pequeños son  [2, 3, 3]\n",
      "El rango de la lista es 8\n"
     ]
    }
   ],
   "source": [
    "#Crea una llista amb nombres desordenats i respon a les següents preguntes:\n",
    "numeros = [5, 10, 3, 7, 3, 4, 8, 9, 4, 2, 4]\n",
    "#Quants números hi ha?\n",
    "\n",
    "print(\"La cantidad de números de la lista es\", len(numeros))\n",
    "\n",
    "#Quantes vegades apareix el número 3\n",
    "print(\"El nº 3 aparece\", numeros.count(3), \"veces\")\n",
    "\n",
    "#Quantes vegades apareixen els nombres 3 i 4?\n",
    "print(\"El nº 3 aparece\", numeros.count(3), \"veces\", \"y el nº 4 aparece\", numeros.count(4),\"veces\")\n",
    "\n",
    "#Quin és el número més gran?\n",
    "print(\"El número más grande es\", max(numeros))\n",
    "\n",
    "#o\n",
    "\n",
    "numeros.sort()\n",
    "print(\"El número más grande es\", numeros[-1])\n",
    "\n",
    "#Quins són els 3 números més petits?\n",
    "print(\"Los tres números más pequeños son \", numeros[0:3])\n",
    "\n",
    "\n",
    "\n",
    "#Quin és el rang d’aquesta llista?\n",
    "rango = numeros[-1] - numeros[0]\n",
    "print(\"El rango de la lista es\", rango)\n",
    "\n"
   ]
  },
  {
   "cell_type": "markdown",
   "id": "0cebf822",
   "metadata": {},
   "source": [
    "### Ejercicio 4"
   ]
  },
  {
   "cell_type": "code",
   "execution_count": 2,
   "id": "9a417ff1",
   "metadata": {},
   "outputs": [
    {
     "name": "stdout",
     "output_type": "stream",
     "text": [
      "{'Pomes': {'Qty': 5, '€': 0.42}, 'Peres': {'Qty': 3, '€': 0.66}, 'Bananes': {'Qty': 6, '€': 1.5}}\n",
      "El costo total de las peras es:  1.98\n",
      "El total de las frutas compradas es de 14\n",
      "El total de las frutas compradas es de 14\n",
      "La fruta más cara es Bananes\n"
     ]
    }
   ],
   "source": [
    "#Crea un diccionari de la següent forma i respon a les preguntes:\n",
    "\n",
    "compra = { \n",
    "    \"Pomes\" : {\"Qty\": 5, \"€\": 0.42},\n",
    "    \"Peres\" : {\"Qty\": 3, \"€\": 0.66} \n",
    "}\n",
    "\n",
    "#Afegeix alguna fruita més\n",
    "compra[\"Bananes\"] = {\"Qty\": 6, \"€\": 1.50}\n",
    "print(compra)\n",
    "       \n",
    "#Quant han costat les peres en total?\n",
    "print(\"El costo total de las peras es: \", compra[\"Peres\"][\"Qty\"] * compra[\"Peres\"][\"€\"])\n",
    "\n",
    "#Quantes fruites hem comprat en total?\n",
    "\n",
    "sumFrutas = sum([f[\"Qty\"] for f in compra.values()])\n",
    "\n",
    "\n",
    "print(\"El total de las frutas compradas es de\", sumFrutas)\n",
    "\n",
    "#o\n",
    "\n",
    "sumF = 0\n",
    "\n",
    "for key ,value in compra.items(): \n",
    "  \n",
    "    if value and \"Qty\" in value.keys(): \n",
    "        \n",
    "        sumF += value[\"Qty\"] \n",
    "print(\"El total de las frutas compradas es de\", sumF)\n",
    "\n",
    "#Quina és la fruita més cara?\n",
    "\n",
    "precioMax = max(p[\"€\"] for p in compra.values())\n",
    "#frutaCara= for(key va)\n",
    "\n",
    "\n",
    "for k,v in compra.items():\n",
    "    if v[\"€\"] == precioMax:\n",
    "        print(\"La fruta más cara es\",k)\n",
    "        \n",
    "\n",
    "\n",
    "\n",
    "\n",
    "\n",
    "#print(\"La fruta más cara es\", compra."
   ]
  },
  {
   "cell_type": "code",
   "execution_count": null,
   "id": "852bca7f",
   "metadata": {},
   "outputs": [],
   "source": []
  },
  {
   "cell_type": "code",
   "execution_count": null,
   "id": "b063f6c7",
   "metadata": {},
   "outputs": [],
   "source": []
  }
 ],
 "metadata": {
  "hide_input": false,
  "kernelspec": {
   "display_name": "Python 3 (ipykernel)",
   "language": "python",
   "name": "python3"
  },
  "language_info": {
   "codemirror_mode": {
    "name": "ipython",
    "version": 3
   },
   "file_extension": ".py",
   "mimetype": "text/x-python",
   "name": "python",
   "nbconvert_exporter": "python",
   "pygments_lexer": "ipython3",
   "version": "3.9.7"
  },
  "nbTranslate": {
   "displayLangs": [
    "*"
   ],
   "hotkey": "alt-t",
   "langInMainMenu": true,
   "sourceLang": "en",
   "targetLang": "fr",
   "useGoogleTranslate": true
  },
  "toc": {
   "base_numbering": 1,
   "nav_menu": {},
   "number_sections": true,
   "sideBar": true,
   "skip_h1_title": false,
   "title_cell": "Table of Contents",
   "title_sidebar": "Contents",
   "toc_cell": false,
   "toc_position": {},
   "toc_section_display": true,
   "toc_window_display": false
  },
  "varInspector": {
   "cols": {
    "lenName": 16,
    "lenType": 16,
    "lenVar": 40
   },
   "kernels_config": {
    "python": {
     "delete_cmd_postfix": "",
     "delete_cmd_prefix": "del ",
     "library": "var_list.py",
     "varRefreshCmd": "print(var_dic_list())"
    },
    "r": {
     "delete_cmd_postfix": ") ",
     "delete_cmd_prefix": "rm(",
     "library": "var_list.r",
     "varRefreshCmd": "cat(var_dic_list()) "
    }
   },
   "types_to_exclude": [
    "module",
    "function",
    "builtin_function_or_method",
    "instance",
    "_Feature"
   ],
   "window_display": false
  }
 },
 "nbformat": 4,
 "nbformat_minor": 5
}
